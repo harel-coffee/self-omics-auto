{
 "cells": [
  {
   "cell_type": "code",
   "execution_count": 1,
   "metadata": {},
   "outputs": [],
   "source": [
    "import numpy as np\n",
    "import pandas as pd"
   ]
  },
  {
   "cell_type": "code",
   "execution_count": 5,
   "metadata": {},
   "outputs": [],
   "source": [
    "A = np.load('/l/users/sayed.hashim/files/Research/Methods/contrastive-tcga/debug/contrastive-omics/data/ABC_inter/Unnormalized/A.npy', allow_pickle=True)\n",
    "B = np.load('/l/users/sayed.hashim/files/Research/Methods/contrastive-tcga/debug/contrastive-omics/data/ABC_inter/Unnormalized/B.npy', allow_pickle=True)\n",
    "C = np.load('/l/users/sayed.hashim/files/Research/Methods/contrastive-tcga/debug/contrastive-omics/data/ABC_inter/Unnormalized/C.npy', allow_pickle=True)"
   ]
  },
  {
   "cell_type": "code",
   "execution_count": 11,
   "metadata": {},
   "outputs": [],
   "source": [
    "A_samples = np.load('/l/users/sayed.hashim/files/Research/Methods/contrastive-tcga/debug/contrastive-omics/data/ABC_inter/Unnormalized/A_samples.npy', allow_pickle=True)\n",
    "A_features = np.load('/l/users/sayed.hashim/files/Research/Methods/contrastive-tcga/debug/contrastive-omics/data/ABC_inter/Unnormalized/A_features.npy', allow_pickle=True)\n",
    "B_samples = np.load('/l/users/sayed.hashim/files/Research/Methods/contrastive-tcga/debug/contrastive-omics/data/ABC_inter/Unnormalized/B_samples.npy', allow_pickle=True)\n",
    "B_features = np.load('/l/users/sayed.hashim/files/Research/Methods/contrastive-tcga/debug/contrastive-omics/data/ABC_inter/Unnormalized/B_features.npy', allow_pickle=True)\n",
    "C_samples = np.load('/l/users/sayed.hashim/files/Research/Methods/contrastive-tcga/debug/contrastive-omics/data/ABC_inter/Unnormalized/C_samples.npy', allow_pickle=True)\n",
    "C_features = np.load('/l/users/sayed.hashim/files/Research/Methods/contrastive-tcga/debug/contrastive-omics/data/ABC_inter/Unnormalized/C_features.npy', allow_pickle=True)"
   ]
  },
  {
   "cell_type": "code",
   "execution_count": 19,
   "metadata": {},
   "outputs": [
    {
     "data": {
      "text/plain": [
       "0.0"
      ]
     },
     "execution_count": 19,
     "metadata": {},
     "output_type": "execute_result"
    }
   ],
   "source": [
    "A[57921, 3]"
   ]
  },
  {
   "cell_type": "code",
   "execution_count": 12,
   "metadata": {},
   "outputs": [
    {
     "data": {
      "text/plain": [
       "array(['TCGA-OR-A5JP-01A', 'TCGA-OR-A5JE-01A', 'TCGA-OR-A5JG-01A', ...,\n",
       "       'TCGA-V4-A9EA-01A', 'TCGA-RZ-AB0B-01A', 'TCGA-V4-A9F8-01A'],\n",
       "      dtype=object)"
      ]
     },
     "execution_count": 12,
     "metadata": {},
     "output_type": "execute_result"
    }
   ],
   "source": [
    "A_samples"
   ]
  },
  {
   "cell_type": "code",
   "execution_count": 18,
   "metadata": {},
   "outputs": [
    {
     "data": {
      "text/plain": [
       "array([57921])"
      ]
     },
     "execution_count": 18,
     "metadata": {},
     "output_type": "execute_result"
    }
   ],
   "source": [
    "(A_features == 'ENSG00000000005.5').nonzero()[0]"
   ]
  },
  {
   "cell_type": "code",
   "execution_count": 20,
   "metadata": {},
   "outputs": [],
   "source": [
    "# do minmax scaling\n",
    "from sklearn.preprocessing import MinMaxScaler\n",
    "scaler = MinMaxScaler()\n",
    "A_scaled = scaler.fit_transform(A)"
   ]
  },
  {
   "cell_type": "code",
   "execution_count": 21,
   "metadata": {},
   "outputs": [],
   "source": [
    "B_scaled = scaler.fit_transform(B)"
   ]
  },
  {
   "cell_type": "code",
   "execution_count": 22,
   "metadata": {},
   "outputs": [],
   "source": [
    "C_scaled = scaler.fit_transform(C)"
   ]
  },
  {
   "cell_type": "code",
   "execution_count": 25,
   "metadata": {},
   "outputs": [],
   "source": [
    "np.save('/l/users/sayed.hashim/files/Research/Methods/contrastive-tcga/debug/contrastive-omics/data/ABC_inter/minmax/A.npy', A_scaled)\n",
    "np.save('/l/users/sayed.hashim/files/Research/Methods/contrastive-tcga/debug/contrastive-omics/data/ABC_inter/minmax/B.npy', B_scaled)\n",
    "np.save('/l/users/sayed.hashim/files/Research/Methods/contrastive-tcga/debug/contrastive-omics/data/ABC_inter/minmax/C.npy', C_scaled)"
   ]
  },
  {
   "cell_type": "code",
   "execution_count": null,
   "metadata": {},
   "outputs": [],
   "source": []
  }
 ],
 "metadata": {
  "interpreter": {
   "hash": "1c53b417750aa739b1a4a68c455c464e9baf1a1a8b9457dec7549b77bfe0966e"
  },
  "kernelspec": {
   "display_name": "Python 3.8.12 ('learntorch')",
   "language": "python",
   "name": "python3"
  },
  "language_info": {
   "codemirror_mode": {
    "name": "ipython",
    "version": 3
   },
   "file_extension": ".py",
   "mimetype": "text/x-python",
   "name": "python",
   "nbconvert_exporter": "python",
   "pygments_lexer": "ipython3",
   "version": "3.8.12"
  },
  "orig_nbformat": 4
 },
 "nbformat": 4,
 "nbformat_minor": 2
}
