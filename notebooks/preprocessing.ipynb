{
 "cells": [
  {
   "cell_type": "markdown",
   "metadata": {},
   "source": [
    "# Convert data from .tsv to .npy format\n",
    "This helps in loading data quicker as well as alleviating memory issues"
   ]
  },
  {
   "cell_type": "code",
   "execution_count": 1,
   "metadata": {},
   "outputs": [],
   "source": [
    "import numpy as np\n",
    "import pandas as pd"
   ]
  },
  {
   "cell_type": "code",
   "execution_count": 18,
   "metadata": {},
   "outputs": [
    {
     "data": {
      "text/plain": [
       "array([57921])"
      ]
     },
     "execution_count": 18,
     "metadata": {},
     "output_type": "execute_result"
    }
   ],
   "source": [
    "A_df = pd.read_csv('data/A.tsv',sep='\\t', header=0, index_col=0)\n",
    "B_df = pd.read_csv('data/B.tsv',sep='\\t', header=0, index_col=0)\n",
    "C_df = pd.read_csv('data/C.tsv',sep='\\t', header=0, index_col=0)"
   ]
  },
  {
   "cell_type": "code",
   "execution_count": null,
   "metadata": {},
   "outputs": [],
   "source": [
    "# drop features with missing values\n",
    "A_df = A_df.dropna(axis=0, how='any')\n",
    "B_df = B_df.dropna(axis=0, how='any')\n",
    "C_df = C_df.dropna(axis=0, how='any')"
   ]
  },
  {
   "cell_type": "code",
   "execution_count": null,
   "metadata": {},
   "outputs": [],
   "source": [
    "np.save('data/A.npy', A_df.values)\n",
    "np.save('data/A_samples.npy', A_df.columns.values)\n",
    "np.save('data/A_features.npy', A_df.index.values)\n",
    "np.save('data/B.npy', B_df.values)\n",
    "np.save('data/B_samples.npy', B_df.columns.values)\n",
    "np.save('data/B_features.npy', B_df.index.values)\n",
    "np.save('data/C.npy', C_df.values)\n",
    "np.save('data/C_samples.npy', C_df.columns.values)\n",
    "np.save('data/C_features.npy', C_df.index.values)"
   ]
  }
 ],
 "metadata": {
  "interpreter": {
   "hash": "1c53b417750aa739b1a4a68c455c464e9baf1a1a8b9457dec7549b77bfe0966e"
  },
  "kernelspec": {
   "display_name": "Python 3.8.12 ('learntorch')",
   "language": "python",
   "name": "python3"
  },
  "language_info": {
   "codemirror_mode": {
    "name": "ipython",
    "version": 3
   },
   "file_extension": ".py",
   "mimetype": "text/x-python",
   "name": "python",
   "nbconvert_exporter": "python",
   "pygments_lexer": "ipython3",
   "version": "3.8.12"
  },
  "orig_nbformat": 4
 },
 "nbformat": 4,
 "nbformat_minor": 2
}
